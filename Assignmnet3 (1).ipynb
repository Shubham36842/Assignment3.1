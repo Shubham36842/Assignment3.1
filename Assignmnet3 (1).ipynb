{
 "cells": [
  {
   "cell_type": "raw",
   "id": "5501ce86-ebe2-4958-abed-1305fb1ff5e3",
   "metadata": {},
   "source": [
    "Q1. Which keyword is used to create a function? Create a function to return a list of odd numbers in the range of 1 to 25."
   ]
  },
  {
   "cell_type": "raw",
   "id": "2de4214b-062f-4a81-94f9-34ca49d50f29",
   "metadata": {},
   "source": [
    "Ans: def keyword is used to define a function in python.\n",
    "     Syntax- def function_name(Argument list):"
   ]
  },
  {
   "cell_type": "code",
   "execution_count": 1,
   "id": "865acefa-6e5d-4eec-8dbb-733534c089c5",
   "metadata": {},
   "outputs": [],
   "source": [
    "def odd_list():\n",
    "    lst=[]\n",
    "    for i in range(1,26):\n",
    "        if(i%2!=0):\n",
    "            lst.append(i)\n",
    "        else:\n",
    "            continue\n",
    "    return lst       "
   ]
  },
  {
   "cell_type": "code",
   "execution_count": 2,
   "id": "1c770612-c396-4dc8-bfc6-4e48d4e3aa6a",
   "metadata": {},
   "outputs": [
    {
     "data": {
      "text/plain": [
       "[1, 3, 5, 7, 9, 11, 13, 15, 17, 19, 21, 23, 25]"
      ]
     },
     "execution_count": 2,
     "metadata": {},
     "output_type": "execute_result"
    }
   ],
   "source": [
    "odd_list()"
   ]
  },
  {
   "cell_type": "raw",
   "id": "2e097cf5-7d42-4b80-a9e2-a1d684f65b33",
   "metadata": {},
   "source": [
    "Q2. Why *args and **kwargs is used in some functions? Create a function each for *args and **kwargs to demonstrate their use."
   ]
  },
  {
   "cell_type": "raw",
   "id": "dcf2f8c1-8f01-4528-a904-73981bf5379c",
   "metadata": {},
   "source": [
    "Ans: *args- This is used as a argument to the function when you want to pass a variable                   number of argument ,It is also used to pass a non keyword variable -length                   arguments."
   ]
  },
  {
   "cell_type": "code",
   "execution_count": 3,
   "id": "8696321b-3812-4656-b5aa-d6f209e56818",
   "metadata": {},
   "outputs": [],
   "source": [
    "def Args(*args):\n",
    "    for i in args:\n",
    "        print(i)"
   ]
  },
  {
   "cell_type": "code",
   "execution_count": 4,
   "id": "30d3c09a-a1de-4411-8811-8f12a4885120",
   "metadata": {},
   "outputs": [
    {
     "name": "stdout",
     "output_type": "stream",
     "text": [
      "hi\n",
      "1\n",
      "PW\n",
      "Shubham\n"
     ]
    }
   ],
   "source": [
    "Args(\"hi\",1,\"PW\",\"Shubham\")"
   ]
  },
  {
   "cell_type": "raw",
   "id": "9b6f185a-41b2-48e8-b225-7d59a97987c4",
   "metadata": {},
   "source": [
    "**Kwargs:- This is used as a argument to the function when you want to pass a keyworded variable length argument. Generally it form a dictionary with passed argument."
   ]
  },
  {
   "cell_type": "code",
   "execution_count": 5,
   "id": "e3aac41d-e460-4413-8204-a3417c4b4468",
   "metadata": {},
   "outputs": [],
   "source": [
    "def Kwargs(**kwargs):\n",
    "    for key,value in kwargs.items():\n",
    "        print(key,value)"
   ]
  },
  {
   "cell_type": "code",
   "execution_count": 6,
   "id": "b8e48192-db9e-4f66-8fbc-33b780ffec8f",
   "metadata": {},
   "outputs": [
    {
     "name": "stdout",
     "output_type": "stream",
     "text": [
      "hi shubham\n",
      "welcome pw\n"
     ]
    }
   ],
   "source": [
    "Kwargs(hi=\"shubham\",welcome=\"pw\")"
   ]
  },
  {
   "cell_type": "raw",
   "id": "941f86d8-14cc-4a7b-a56c-f44637ccd85a",
   "metadata": {},
   "source": [
    "Q3. What is an iterator in python? Name the method used to initialise the iterator object and the method used for iteration. Use these methods to print the first five elements of the given list [2, 4, 6, 8, 10, 12, 14, 16, 18, 20]."
   ]
  },
  {
   "cell_type": "raw",
   "id": "a1f94c52-1f87-4c0e-aaf6-a8346db7a3c7",
   "metadata": {},
   "source": [
    "Ans: Iterator is a object through which we can traverse all the values.\n",
    "    Method for intialise : iter()\n",
    "    Method for iteration : next()"
   ]
  },
  {
   "cell_type": "code",
   "execution_count": 7,
   "id": "3b83349e-90cd-45ef-bf9a-895990733f91",
   "metadata": {},
   "outputs": [
    {
     "name": "stdout",
     "output_type": "stream",
     "text": [
      "2\n",
      "4\n",
      "6\n",
      "8\n",
      "10\n"
     ]
    }
   ],
   "source": [
    "lst=[2,4,6,8,10,12,14,16,18,20]\n",
    "myit=iter(lst)\n",
    "print(next(myit))\n",
    "print(next(myit))\n",
    "print(next(myit))\n",
    "print(next(myit))\n",
    "print(next(myit))"
   ]
  },
  {
   "cell_type": "raw",
   "id": "157a689d-fd22-45a5-b726-5d1f7a5312ff",
   "metadata": {},
   "source": [
    "Q4. What is a generator function in python? Why yield keyword is used? Give an example of a generator function."
   ]
  },
  {
   "cell_type": "raw",
   "id": "a214d3ff-8e84-4e4c-963a-828d1a922c15",
   "metadata": {},
   "source": [
    "Ans: Generator function  returns an iterator that produces a sequence of values when iterated      over.Generator provide a space-efficient method for data processing.\n",
    "     'yeild' keyword is used to return the value in ganerator function"
   ]
  },
  {
   "cell_type": "code",
   "execution_count": 8,
   "id": "9400ed36-efb3-46dc-84bf-7441c8c54ac4",
   "metadata": {},
   "outputs": [],
   "source": [
    "def fabbonacci(n):\n",
    "    a,b=0,1\n",
    "    while(a<n):\n",
    "        yield a\n",
    "        a,b=b,a+b"
   ]
  },
  {
   "cell_type": "code",
   "execution_count": 9,
   "id": "13ee34cd-a95f-47d2-a95b-d96d2dae3c9c",
   "metadata": {},
   "outputs": [],
   "source": [
    "x=fabbonacci(4)"
   ]
  },
  {
   "cell_type": "code",
   "execution_count": 10,
   "id": "189b188f-dd1b-4167-950d-e0523eb1d9de",
   "metadata": {},
   "outputs": [
    {
     "name": "stdout",
     "output_type": "stream",
     "text": [
      "0\n",
      "1\n",
      "1\n",
      "2\n"
     ]
    }
   ],
   "source": [
    "print(next(x))\n",
    "print(next(x))\n",
    "print(next(x))\n",
    "print(next(x))"
   ]
  },
  {
   "cell_type": "raw",
   "id": "d813e619-d846-48cc-a4dd-897736dfa102",
   "metadata": {},
   "source": [
    "Q5. Create a generator function for prime numbers less than 1000. Use the next() method to print the first 20 prime numbers."
   ]
  },
  {
   "cell_type": "code",
   "execution_count": 11,
   "id": "24c5c927-b8a1-413f-803e-c2833610db74",
   "metadata": {},
   "outputs": [],
   "source": [
    "def gen_prime():\n",
    "    for i in range(2,1000):\n",
    "        flag=True\n",
    "        for j in range(2,i):\n",
    "            if i%j==0:\n",
    "                flag=False\n",
    "                break\n",
    "        if(flag==True):\n",
    "            yield i"
   ]
  },
  {
   "cell_type": "code",
   "execution_count": 15,
   "id": "576ee369-97e0-4b95-bb39-3f829bd2acfa",
   "metadata": {},
   "outputs": [
    {
     "name": "stdout",
     "output_type": "stream",
     "text": [
      "2 3 5 7 11 13 17 19 23 29 31 37 41 43 47 53 59 61 67 71 "
     ]
    }
   ],
   "source": [
    "x=gen_prime()\n",
    "for k in range(20):\n",
    "    print(next(x),end=\" \")"
   ]
  },
  {
   "cell_type": "raw",
   "id": "8698f321-bc8d-4b0c-95a3-ca00f3a2c7b6",
   "metadata": {},
   "source": [
    "Q6. Write a python program to print the first 10 Fibonacci numbers using a while loop."
   ]
  },
  {
   "cell_type": "code",
   "execution_count": 16,
   "id": "04efafdd-6075-4ff0-94f5-ee9bfd643466",
   "metadata": {},
   "outputs": [
    {
     "name": "stdout",
     "output_type": "stream",
     "text": [
      "0 1 1 2 3 5 8 13 21 34 "
     ]
    }
   ],
   "source": [
    "i=1\n",
    "a,b=0,1\n",
    "while(i<=10):\n",
    "    print(a,end=\" \")\n",
    "    a,b=b,a+b\n",
    "    i=i+1"
   ]
  },
  {
   "cell_type": "raw",
   "id": "65cd4417-1840-4a38-87d5-8d765236a4aa",
   "metadata": {},
   "source": [
    "Q7. Write a List Comprehension to iterate through the given string: ‘pwskills’.\n",
    "Expected output: ['p', 'w', 's', 'k', 'i', 'l', 'l', 's']"
   ]
  },
  {
   "cell_type": "code",
   "execution_count": 22,
   "id": "ee243e98-791b-4681-b194-84bf8e8975fd",
   "metadata": {},
   "outputs": [],
   "source": [
    "lst=[x for x in \"pwskills\"]"
   ]
  },
  {
   "cell_type": "code",
   "execution_count": 17,
   "id": "7d77b1a9-89fa-4fc3-9690-bcc637c83d40",
   "metadata": {},
   "outputs": [
    {
     "data": {
      "text/plain": [
       "[2, 4, 6, 8, 10, 12, 14, 16, 18, 20]"
      ]
     },
     "execution_count": 17,
     "metadata": {},
     "output_type": "execute_result"
    }
   ],
   "source": [
    "lst"
   ]
  },
  {
   "cell_type": "raw",
   "id": "31a2e4db-42ff-4c04-ad17-c590e67363b0",
   "metadata": {},
   "source": [
    "Q8. Write a python program to check whether a given number is Palindrome or not using a while loop."
   ]
  },
  {
   "cell_type": "code",
   "execution_count": 18,
   "id": "90387ba3-d9df-45d3-84ee-845a9015ca1b",
   "metadata": {},
   "outputs": [
    {
     "name": "stdin",
     "output_type": "stream",
     "text": [
      "Enter any number: 1221\n"
     ]
    },
    {
     "name": "stdout",
     "output_type": "stream",
     "text": [
      "The 1221 number is palindrome!\n"
     ]
    }
   ],
   "source": [
    "num=int(input(\"Enter any number:\"))\n",
    "temp=num\n",
    "rev=0\n",
    "while(num>0):\n",
    "    dig=num%10\n",
    "    rev=rev*10+dig\n",
    "    num=num//10\n",
    "if(temp==rev):\n",
    "    print(\"The {0} number is palindrome!\".format(temp))\n",
    "else:\n",
    "    print(\"Not a palindrome!\")"
   ]
  },
  {
   "cell_type": "raw",
   "id": "9c2a1e9c-c309-41dd-85b8-d6bf7d5f0f03",
   "metadata": {},
   "source": [
    "Q9. Write a code to print odd numbers from 1 to 100 using list comprehension."
   ]
  },
  {
   "cell_type": "code",
   "execution_count": 20,
   "id": "dfebee9f-36b8-4f43-b5fc-e8b740d6a9ab",
   "metadata": {},
   "outputs": [],
   "source": [
    "lst=[x for x in range(1,101)]\n",
    "llst=[y for y in lst if y%2!=0]"
   ]
  },
  {
   "cell_type": "code",
   "execution_count": 21,
   "id": "358f76e7-76bd-45d4-bee1-39a77ee623a9",
   "metadata": {},
   "outputs": [
    {
     "name": "stdout",
     "output_type": "stream",
     "text": [
      "[1, 3, 5, 7, 9, 11, 13, 15, 17, 19, 21, 23, 25, 27, 29, 31, 33, 35, 37, 39, 41, 43, 45, 47, 49, 51, 53, 55, 57, 59, 61, 63, 65, 67, 69, 71, 73, 75, 77, 79, 81, 83, 85, 87, 89, 91, 93, 95, 97, 99] "
     ]
    }
   ],
   "source": [
    "print(llst,end=\" \")"
   ]
  }
 ],
 "metadata": {
  "kernelspec": {
   "display_name": "Python 3 (ipykernel)",
   "language": "python",
   "name": "python3"
  },
  "language_info": {
   "codemirror_mode": {
    "name": "ipython",
    "version": 3
   },
   "file_extension": ".py",
   "mimetype": "text/x-python",
   "name": "python",
   "nbconvert_exporter": "python",
   "pygments_lexer": "ipython3",
   "version": "3.10.8"
  }
 },
 "nbformat": 4,
 "nbformat_minor": 5
}
